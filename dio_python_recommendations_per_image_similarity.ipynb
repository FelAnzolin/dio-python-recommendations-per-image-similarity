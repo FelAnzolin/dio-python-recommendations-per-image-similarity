{
  "nbformat": 4,
  "nbformat_minor": 0,
  "metadata": {
    "colab": {
      "provenance": [],
      "gpuType": "T4",
      "authorship_tag": "ABX9TyNh+QtzELLwztcamNrkrLPQ"
    },
    "kernelspec": {
      "name": "python3",
      "display_name": "Python 3"
    },
    "language_info": {
      "name": "python"
    },
    "accelerator": "GPU"
  },
  "cells": [
    {
      "cell_type": "markdown",
      "source": [
        "Criado com base no artigo:\n",
        "\n",
        "https://colab.research.google.com/github/sparsh-ai/rec-tutorials/blob/master/_notebooks/2021-04-27-image-similarity-recommendations.ipynb"
      ],
      "metadata": {
        "id": "t-S76Id8I_wA"
      }
    },
    {
      "cell_type": "code",
      "execution_count": 2,
      "metadata": {
        "colab": {
          "base_uri": "https://localhost:8080/"
        },
        "id": "ayO0L8n0I186",
        "outputId": "40a639ed-4bf3-4234-82b1-707f10a501c4"
      },
      "outputs": [
        {
          "output_type": "stream",
          "name": "stdout",
          "text": [
            "Drive already mounted at /content/drive; to attempt to forcibly remount, call drive.mount(\"/content/drive\", force_remount=True).\n"
          ]
        }
      ],
      "source": [
        "# Conexão ao Google Drive\n",
        "\n",
        "from google.colab import drive\n",
        "drive.mount('/content/drive')"
      ]
    },
    {
      "cell_type": "code",
      "source": [
        "# Chave de acesso ao Kaggle\n",
        "\n",
        "#hide\n",
        "%%writefile kaggle.json\n",
        "{\"username\":\"felipeanzolin\",\"key\":\"ca3d129a0454ed1a7d3fc81655153414\"}"
      ],
      "metadata": {
        "colab": {
          "base_uri": "https://localhost:8080/"
        },
        "id": "yLlpG-VeJffI",
        "outputId": "007b6af1-6730-49c9-b5cc-328c9391517b"
      },
      "execution_count": 3,
      "outputs": [
        {
          "output_type": "stream",
          "name": "stdout",
          "text": [
            "Writing kaggle.json\n"
          ]
        }
      ]
    },
    {
      "cell_type": "code",
      "source": [
        "# Instalação do Kaggle\n",
        "\n",
        "#hide\n",
        "!pip install -q -U kaggle\n",
        "!pip install --upgrade --force-reinstall --no-deps kaggle\n",
        "!mkdir ~/.kaggle\n",
        "!cp kaggle.json ~/.kaggle/\n",
        "!chmod 600 ~/.kaggle/kaggle.json"
      ],
      "metadata": {
        "colab": {
          "base_uri": "https://localhost:8080/"
        },
        "collapsed": true,
        "id": "FZ8wEivDJraf",
        "outputId": "a29ded0b-e6c0-4b81-e563-24945951f7c9"
      },
      "execution_count": 4,
      "outputs": [
        {
          "output_type": "stream",
          "name": "stdout",
          "text": [
            "Collecting kaggle\n",
            "  Downloading kaggle-1.6.17.tar.gz (82 kB)\n",
            "\u001b[?25l     \u001b[90m━━━━━━━━━━━━━━━━━━━━━━━━━━━━━━━━━━━━━━━━\u001b[0m \u001b[32m0.0/82.7 kB\u001b[0m \u001b[31m?\u001b[0m eta \u001b[36m-:--:--\u001b[0m\r\u001b[2K     \u001b[90m━━━━━━━━━━━━━━━━━━━━━━━━━━━━━━━━━━━━━━━━\u001b[0m \u001b[32m82.7/82.7 kB\u001b[0m \u001b[31m3.6 MB/s\u001b[0m eta \u001b[36m0:00:00\u001b[0m\n",
            "\u001b[?25h  Preparing metadata (setup.py) ... \u001b[?25l\u001b[?25hdone\n",
            "Building wheels for collected packages: kaggle\n",
            "  Building wheel for kaggle (setup.py) ... \u001b[?25l\u001b[?25hdone\n",
            "  Created wheel for kaggle: filename=kaggle-1.6.17-py3-none-any.whl size=105786 sha256=cc17ae83211cc3e3e4b2115458c4e1f573b2a4032fe8cf2ec106e0cd1b7dbe22\n",
            "  Stored in directory: /root/.cache/pip/wheels/ff/55/fb/b27a466be754d2a06ffe0e37b248d844f090a63b51becea85d\n",
            "Successfully built kaggle\n",
            "Installing collected packages: kaggle\n",
            "  Attempting uninstall: kaggle\n",
            "    Found existing installation: kaggle 1.6.17\n",
            "    Uninstalling kaggle-1.6.17:\n",
            "      Successfully uninstalled kaggle-1.6.17\n",
            "Successfully installed kaggle-1.6.17\n"
          ]
        }
      ]
    },
    {
      "cell_type": "code",
      "source": [
        "# downloading raw images from kaggle\n",
        "#!kaggle datasets download -d trolukovich/food11-image-dataset\n",
        "#!unzip food11-image-dataset.zip\n",
        "\n",
        "!kaggle datasets download -d paramaggarwal/fashion-product-images-small\n",
        "!unzip fashion-product-images-small.zip"
      ],
      "metadata": {
        "collapsed": true,
        "id": "QiUl5fw_KWwY"
      },
      "execution_count": null,
      "outputs": []
    },
    {
      "cell_type": "code",
      "source": [
        "import pandas as pd\n",
        "from shutil import move\n",
        "import os\n",
        "from tqdm import tqdm\n",
        "import shutil\n",
        "\n",
        "os.mkdir('/content/Fashion_data')\n",
        "os.chdir('/content/Fashion_data')\n",
        "\n",
        "df = pd.read_csv('/content/styles.csv', usecols=['id','masterCategory']).reset_index()\n",
        "df['id'] = df['id'].astype('str')\n",
        "\n",
        "all_images = os.listdir('/content/images/')\n",
        "co = 0\n",
        "os.mkdir('/content/Fashion_data/categories')\n",
        "for image in tqdm(all_images):\n",
        "    category = df[df['id'] == image.split('.')[0]]['masterCategory']\n",
        "    category = str(list(category)[0])\n",
        "    if not os.path.exists(os.path.join('/content/Fashion_data/categories', category)):\n",
        "        os.mkdir(os.path.join('/content/Fashion_data/categories', category))\n",
        "    path_from = os.path.join('/content/images', image)\n",
        "    path_to = os.path.join('/content/Fashion_data/categories', category, image)\n",
        "    move(path_from, path_to)\n",
        "    co += 1\n",
        "print('Moved {} images.'.format(co))\n",
        "\n",
        "# if not os.path.exists('/content/food_data'):\n",
        "#     os.mkdir('/content/food_data')\n",
        "# os.chdir('/content/food_data')\n",
        "\n",
        "# if not os.path.exists('/content/food_data/categories'):\n",
        "#     os.mkdir('/content/food_data/categories')\n",
        "\n",
        "# path_from = '/content/training/Bread'\n",
        "# path_to = '/content/food_data/categories/'\n",
        "# move(path_from, path_to)\n",
        "\n",
        "# path_from = '/content/training/Dairy product'\n",
        "# move(path_from, path_to)\n",
        "\n",
        "# path_from = '/content/training/Dessert'\n",
        "# move(path_from, path_to)\n",
        "\n",
        "# path_from = '/content/training/Egg'\n",
        "# move(path_from, path_to)\n",
        "\n",
        "# path_from = '/content/training/Fried food'\n",
        "# move(path_from, path_to)\n",
        "\n",
        "# path_from = '/content/training/Meat'\n",
        "# move(path_from, path_to)\n",
        "\n",
        "# path_from = '/content/training/Noodles-Pasta'\n",
        "# move(path_from, path_to)\n",
        "\n",
        "# path_from = '/content/training/Rice'\n",
        "# move(path_from, path_to)\n",
        "\n",
        "# path_from = '/content/training/Seafood'\n",
        "# move(path_from, path_to)\n",
        "\n",
        "# path_from = '/content/training/Soup'\n",
        "# move(path_from, path_to)\n",
        "\n",
        "# path_from = '/content/training/Vegetable-Fruit'\n",
        "# move(path_from, path_to)\n"
      ],
      "metadata": {
        "colab": {
          "base_uri": "https://localhost:8080/"
        },
        "id": "zBQcvDx_K1zn",
        "outputId": "4eba48f5-f228-4b15-c43b-a94793f85a61"
      },
      "execution_count": 6,
      "outputs": [
        {
          "output_type": "stream",
          "name": "stderr",
          "text": [
            "100%|██████████| 44441/44441 [03:16<00:00, 226.47it/s]"
          ]
        },
        {
          "output_type": "stream",
          "name": "stdout",
          "text": [
            "Moved 44441 images.\n"
          ]
        },
        {
          "output_type": "stream",
          "name": "stderr",
          "text": [
            "\n"
          ]
        }
      ]
    },
    {
      "cell_type": "markdown",
      "source": [
        "# Step 2: Encoder Fine-tuning [optional]"
      ],
      "metadata": {
        "id": "QbRFjm0pbskj"
      }
    },
    {
      "cell_type": "code",
      "source": [
        "!pip install tensorflow==2.15.0 tensorflow-hub==0.13.0 keras==2.15.0"
      ],
      "metadata": {
        "id": "YAfoYkf5WWlF"
      },
      "execution_count": null,
      "outputs": []
    },
    {
      "cell_type": "code",
      "source": [
        "import itertools\n",
        "import os\n",
        "\n",
        "import matplotlib.pylab as plt\n",
        "import numpy as np\n",
        "\n",
        "import tensorflow as tf\n",
        "import tensorflow_hub as hub\n",
        "\n",
        "print(\"TF version:\", tf.__version__)\n",
        "print(\"Hub version:\", hub.__version__)\n",
        "print(\"GPU is\", \"available\" if tf.config.list_physical_devices('GPU') else \"NOT AVAILABLE\")"
      ],
      "metadata": {
        "colab": {
          "base_uri": "https://localhost:8080/"
        },
        "id": "tJY9oHx8Sfz-",
        "outputId": "a42dbe73-13fd-4f42-ee8e-ac2429b9fd9d"
      },
      "execution_count": 2,
      "outputs": [
        {
          "output_type": "stream",
          "name": "stdout",
          "text": [
            "TF version: 2.15.0\n",
            "Hub version: 0.13.0\n",
            "GPU is NOT AVAILABLE\n"
          ]
        }
      ]
    },
    {
      "cell_type": "code",
      "source": [
        "MODULE_HANDLE = 'https://tfhub.dev/google/bit/m-r50x3/1'\n",
        "IMAGE_SIZE = (224, 224)\n",
        "print(\"Using {} with input size {}\".format(MODULE_HANDLE, IMAGE_SIZE))\n",
        "BATCH_SIZE = 32\n",
        "N_FEATURES = 256"
      ],
      "metadata": {
        "colab": {
          "base_uri": "https://localhost:8080/"
        },
        "id": "RkFTtabzSrvd",
        "outputId": "928e5f43-9f5d-4ed8-d7a2-0a2bfa899c29"
      },
      "execution_count": 3,
      "outputs": [
        {
          "output_type": "stream",
          "name": "stdout",
          "text": [
            "Using https://tfhub.dev/google/bit/m-r50x3/1 with input size (224, 224)\n"
          ]
        }
      ]
    },
    {
      "cell_type": "code",
      "source": [
        "#hide\n",
        "#data_dir = '/content/food_data/categories'\n",
        "data_dir = '/content/Fashion_data/categories'"
      ],
      "metadata": {
        "id": "tT2k2y9bSvk1"
      },
      "execution_count": 4,
      "outputs": []
    },
    {
      "cell_type": "code",
      "source": [
        "datagen_kwargs = dict(rescale=1./255, validation_split=.20)\n",
        "dataflow_kwargs = dict(target_size=IMAGE_SIZE, batch_size=BATCH_SIZE,\n",
        "                   interpolation=\"bilinear\")\n",
        "\n",
        "valid_datagen = tf.keras.preprocessing.image.ImageDataGenerator(\n",
        "    **datagen_kwargs)\n",
        "valid_generator = valid_datagen.flow_from_directory(\n",
        "    data_dir, subset=\"validation\", shuffle=False, **dataflow_kwargs)\n",
        "\n",
        "do_data_augmentation = False\n",
        "if do_data_augmentation:\n",
        "  train_datagen = tf.keras.preprocessing.image.ImageDataGenerator(\n",
        "      rotation_range=40,\n",
        "      horizontal_flip=True,\n",
        "      width_shift_range=0.2, height_shift_range=0.2,\n",
        "      shear_range=0.2, zoom_range=0.2,\n",
        "      **datagen_kwargs)\n",
        "else:\n",
        "  train_datagen = valid_datagen\n",
        "train_generator = train_datagen.flow_from_directory(\n",
        "    data_dir, subset=\"training\", shuffle=True, **dataflow_kwargs)"
      ],
      "metadata": {
        "colab": {
          "base_uri": "https://localhost:8080/"
        },
        "id": "NuMDX-O5S5nV",
        "outputId": "6d2f6aee-1b2a-45ba-faf6-847b69dde62a"
      },
      "execution_count": 5,
      "outputs": [
        {
          "output_type": "stream",
          "name": "stdout",
          "text": [
            "Found 8886 images belonging to 7 classes.\n",
            "Found 35555 images belonging to 7 classes.\n"
          ]
        }
      ]
    },
    {
      "cell_type": "code",
      "source": [
        "print(\"Building model with\", MODULE_HANDLE)\n",
        "# Create a functional model instead of a Sequential model\n",
        "input_tensor = tf.keras.layers.Input(shape=IMAGE_SIZE + (3,))\n",
        "hub_layer = hub.KerasLayer(MODULE_HANDLE, trainable=False)(input_tensor)\n",
        "dropout1 = tf.keras.layers.Dropout(rate=0.2)(hub_layer)\n",
        "dense1 = tf.keras.layers.Dense(N_FEATURES, kernel_regularizer=tf.keras.regularizers.l2(0.0001))(dropout1)\n",
        "dropout2 = tf.keras.layers.Dropout(rate=0.2)(dense1)\n",
        "output_tensor = tf.keras.layers.Dense(train_generator.num_classes, kernel_regularizer=tf.keras.regularizers.l2(0.0001))(dropout2)\n",
        "\n",
        "model = tf.keras.Model(inputs=input_tensor, outputs=output_tensor)\n",
        "\n",
        "# Build and summarize the model\n",
        "model.build((None,)+IMAGE_SIZE+(3,))\n",
        "model.summary()"
      ],
      "metadata": {
        "colab": {
          "base_uri": "https://localhost:8080/"
        },
        "id": "XV9FcBpMTAtV",
        "outputId": "0864068b-ac9b-4799-a62a-109d8bec0ec0"
      },
      "execution_count": 6,
      "outputs": [
        {
          "output_type": "stream",
          "name": "stdout",
          "text": [
            "Building model with https://tfhub.dev/google/bit/m-r50x3/1\n",
            "Model: \"model\"\n",
            "_________________________________________________________________\n",
            " Layer (type)                Output Shape              Param #   \n",
            "=================================================================\n",
            " input_1 (InputLayer)        [(None, 224, 224, 3)]     0         \n",
            "                                                                 \n",
            " keras_layer (KerasLayer)    (None, 6144)              211174080 \n",
            "                                                                 \n",
            " dropout (Dropout)           (None, 6144)              0         \n",
            "                                                                 \n",
            " dense (Dense)               (None, 256)               1573120   \n",
            "                                                                 \n",
            " dropout_1 (Dropout)         (None, 256)               0         \n",
            "                                                                 \n",
            " dense_1 (Dense)             (None, 7)                 1799      \n",
            "                                                                 \n",
            "=================================================================\n",
            "Total params: 212748999 (811.57 MB)\n",
            "Trainable params: 1574919 (6.01 MB)\n",
            "Non-trainable params: 211174080 (805.57 MB)\n",
            "_________________________________________________________________\n"
          ]
        }
      ]
    },
    {
      "cell_type": "code",
      "source": [
        "# Define optimiser and loss\n",
        "lr = 0.003 * BATCH_SIZE / 512\n",
        "SCHEDULE_LENGTH = 500\n",
        "SCHEDULE_BOUNDARIES = [200, 300, 400]\n",
        "\n",
        "# Decay learning rate by a factor of 10 at SCHEDULE_BOUNDARIES.\n",
        "lr_schedule = tf.keras.optimizers.schedules.PiecewiseConstantDecay(boundaries=SCHEDULE_BOUNDARIES,\n",
        "                                                                   values=[lr, lr*0.1, lr*0.001, lr*0.0001])\n",
        "optimizer = tf.keras.optimizers.SGD(learning_rate=lr_schedule, momentum=0.9)\n",
        "\n",
        "loss_fn = tf.keras.losses.CategoricalCrossentropy(from_logits=True)\n",
        "\n",
        "model.compile(optimizer=optimizer,\n",
        "              loss=loss_fn,\n",
        "              metrics=['accuracy'])"
      ],
      "metadata": {
        "id": "gMb0prhEXTEt"
      },
      "execution_count": 7,
      "outputs": []
    },
    {
      "cell_type": "code",
      "source": [
        "steps_per_epoch = train_generator.samples // train_generator.batch_size\n",
        "validation_steps = valid_generator.samples // valid_generator.batch_size\n",
        "hist = model.fit(\n",
        "    train_generator,\n",
        "    epochs=5, steps_per_epoch=steps_per_epoch,\n",
        "    validation_data=valid_generator,\n",
        "    validation_steps=validation_steps).history"
      ],
      "metadata": {
        "id": "_4svYZdVXZmk"
      },
      "execution_count": null,
      "outputs": []
    },
    {
      "cell_type": "code",
      "source": [
        "#hide\n",
        "plt.figure()\n",
        "plt.ylabel(\"Loss (training and validation)\")\n",
        "plt.xlabel(\"Training Steps\")\n",
        "plt.ylim([0,2])\n",
        "plt.plot(hist[\"loss\"])\n",
        "plt.plot(hist[\"val_loss\"])\n",
        "\n",
        "plt.figure()\n",
        "plt.ylabel(\"Accuracy (training and validation)\")\n",
        "plt.xlabel(\"Training Steps\")\n",
        "plt.ylim([0,1])\n",
        "plt.plot(hist[\"accuracy\"])\n",
        "plt.plot(hist[\"val_accuracy\"])"
      ],
      "metadata": {
        "id": "dVyQzZmSbROe"
      },
      "execution_count": null,
      "outputs": []
    },
    {
      "cell_type": "code",
      "source": [
        "if not os.path.exists('/content/drive/MyDrive/ImgSim/'):\n",
        "    os.mkdir('/content/drive/MyDrive/ImgSim/')\n",
        "\n",
        "feature_extractor = tf.keras.Model(inputs=model.inputs, outputs=model.layers[-3].output)\n",
        "feature_extractor.save('/content/drive/MyDrive/ImgSim/bit_feature_extractor', save_format='tf')\n",
        "\n",
        "saved_model_path = '/content/drive/MyDrive/ImgSim/bit_model'\n",
        "tf.saved_model.save(model, saved_model_path)"
      ],
      "metadata": {
        "id": "xe9JtFOFbXB0"
      },
      "execution_count": null,
      "outputs": []
    },
    {
      "cell_type": "markdown",
      "source": [
        "# Step 3: Image Vectorization"
      ],
      "metadata": {
        "id": "vo-CiIy7cGrc"
      }
    },
    {
      "cell_type": "code",
      "source": [
        "#hide\n",
        "import tensorflow as tf\n",
        "from pathlib import Path\n",
        "import numpy as np\n",
        "import os\n",
        "from tqdm import tqdm\n",
        "tqdm.pandas()\n",
        "\n",
        "import tensorflow_hub as hub"
      ],
      "metadata": {
        "id": "2Xiy7X_UcacE"
      },
      "execution_count": 7,
      "outputs": []
    },
    {
      "cell_type": "code",
      "source": [
        "img_paths = []\n",
        "for path in Path('/content/Fashion_data/categories').rglob('*.jpg'):\n",
        "# for path in Path('/content/food_data/categories').rglob('*.jpg'):\n",
        "  img_paths.append(path)\n",
        "np.random.shuffle(img_paths)"
      ],
      "metadata": {
        "id": "cpa1JSUncdHj"
      },
      "execution_count": 8,
      "outputs": []
    },
    {
      "cell_type": "code",
      "source": [
        "def load_img(path):\n",
        "  img = tf.io.read_file(path)\n",
        "  img = tf.io.decode_jpeg(img, channels=3)\n",
        "  img = tf.image.resize_with_pad(img, 224, 224)\n",
        "  img  = tf.image.convert_image_dtype(img, tf.float32)[tf.newaxis, ...]\n",
        "  return img"
      ],
      "metadata": {
        "id": "9wgUlVaZciOz"
      },
      "execution_count": 9,
      "outputs": []
    },
    {
      "cell_type": "code",
      "source": [
        "#A linha abaixo deverá ter valor 1 se tiver sido executado a seção do step 2\n",
        "TRANSFER_LEARNING_FLAG = 0\n",
        "\n",
        "if TRANSFER_LEARNING_FLAG:\n",
        "  module = tf.keras.models.load_model('/content/drive/MyDrive/ImgSim/bit_feature_extractor')\n",
        "else:\n",
        "  module_handle = \"https://tfhub.dev/google/bit/s-r50x3/ilsvrc2012_classification/1\"\n",
        "  module = hub.load(module_handle)"
      ],
      "metadata": {
        "id": "ueyNb2y5cnlk"
      },
      "execution_count": 10,
      "outputs": []
    },
    {
      "cell_type": "code",
      "source": [
        "imgvec_path = '/content/img_vectors/'\n",
        "Path(imgvec_path).mkdir(parents=True, exist_ok=True)"
      ],
      "metadata": {
        "id": "nFm99SWPc_tc"
      },
      "execution_count": 11,
      "outputs": []
    },
    {
      "cell_type": "code",
      "source": [
        "for filename in tqdm(img_paths[:5000]):\n",
        "    img = load_img(str(filename))\n",
        "    features = module(img)\n",
        "    feature_set = np.squeeze(features)\n",
        "    outfile_name = os.path.basename(filename).split('.')[0] + \".npz\"\n",
        "    out_path_file = os.path.join(imgvec_path, outfile_name)\n",
        "    np.savetxt(out_path_file, feature_set, delimiter=',')"
      ],
      "metadata": {
        "colab": {
          "base_uri": "https://localhost:8080/"
        },
        "id": "uxl26gjKdCLL",
        "outputId": "1cfc529d-7b9f-46ac-a485-5e0b77cc3d5c"
      },
      "execution_count": 12,
      "outputs": [
        {
          "output_type": "stream",
          "name": "stderr",
          "text": [
            "100%|██████████| 5000/5000 [09:23<00:00,  8.87it/s]\n"
          ]
        }
      ]
    },
    {
      "cell_type": "markdown",
      "source": [
        "# Step 4: Metadata and Indexing"
      ],
      "metadata": {
        "id": "bGY72tLjgQwt"
      }
    },
    {
      "cell_type": "code",
      "source": [
        "#hide\n",
        "import pandas as pd\n",
        "import glob\n",
        "import os\n",
        "import numpy as np\n",
        "from tqdm import tqdm\n",
        "tqdm.pandas()\n",
        "!pip install -q annoy\n",
        "import json\n",
        "from annoy import AnnoyIndex\n",
        "from scipy import spatial\n",
        "import pickle\n",
        "from IPython.display import Image as dispImage"
      ],
      "metadata": {
        "id": "yhJ5t6rfiVQq"
      },
      "execution_count": 48,
      "outputs": []
    },
    {
      "cell_type": "code",
      "source": [
        "test_img = '/content/Fashion_data/categories/Accessories/10593.jpg'\n",
        "dispImage(test_img)"
      ],
      "metadata": {
        "colab": {
          "base_uri": "https://localhost:8080/",
          "height": 97
        },
        "id": "spR3jToniguC",
        "outputId": "8d1cfb88-b682-4a91-9501-d4d88dde0315"
      },
      "execution_count": 49,
      "outputs": [
        {
          "output_type": "execute_result",
          "data": {
            "image/jpeg": "[encoded data removed]",
            "text/plain": [
              "<IPython.core.display.Image object>"
            ]
          },
          "metadata": {},
          "execution_count": 49
        }
      ]
    },
    {
      "cell_type": "code",
      "source": [
        "#hide-output\n",
        "styles = pd.read_csv('/content/styles.csv', on_bad_lines='skip')\n",
        "styles['id'] = styles['id'].astype('str')\n",
        "styles.to_csv('/content/styles.csv', index=False)"
      ],
      "metadata": {
        "id": "8SPfIdgEpFeJ"
      },
      "execution_count": 22,
      "outputs": []
    },
    {
      "cell_type": "code",
      "source": [
        "def match_id(fname):\n",
        "  return styles.index[styles.id==fname].values[0]"
      ],
      "metadata": {
        "id": "YSAGNJgBpIRg"
      },
      "execution_count": 23,
      "outputs": []
    },
    {
      "cell_type": "code",
      "source": [
        "# Defining data structures as empty dict\n",
        "file_index_to_file_name = {}\n",
        "file_index_to_file_vector = {}\n",
        "file_index_to_product_id = {}\n",
        "\n",
        "# Configuring annoy parameters\n",
        "dims = 256\n",
        "n_nearest_neighbors = 20\n",
        "trees = 10000\n",
        "\n",
        "# Reads all file names which stores feature vectors\n",
        "allfiles = glob.glob('/content/img_vectors/*.npz')\n",
        "\n",
        "t = AnnoyIndex(dims, metric='angular')"
      ],
      "metadata": {
        "id": "q9Loxnv1jBI6"
      },
      "execution_count": 24,
      "outputs": []
    },
    {
      "cell_type": "code",
      "source": [
        "for findex, fname in tqdm(enumerate(allfiles)):\n",
        "  # Load the data, it might have multiple rows\n",
        "  file_vector = np.loadtxt(fname)\n",
        "\n",
        "  # Check if the file_vector has more than one dimension or if it has the correct dimension\n",
        "  if file_vector.ndim > 1 or file_vector.shape[0] != dims:\n",
        "      # If it does, take the first 256 elements (assuming it contains the features)\n",
        "      file_vector = file_vector[:dims]\n",
        "\n",
        "  # Now ensure it's reshaped to the expected dimensions (dims=256)\n",
        "  # file_vector = file_vector.reshape(dims) # This line is no longer necessary\n",
        "\n",
        "  file_name = os.path.basename(fname).split('.')[0]\n",
        "  file_index_to_file_name[findex] = file_name\n",
        "  file_index_to_file_vector[findex] = file_vector\n",
        "  try:\n",
        "    file_index_to_product_id[findex] = match_id(file_name)\n",
        "  except IndexError:\n",
        "    pass\n",
        "  t.add_item(findex, file_vector)"
      ],
      "metadata": {
        "colab": {
          "base_uri": "https://localhost:8080/"
        },
        "id": "u6Elf0xvjG_a",
        "outputId": "cd0dfc83-43ce-48be-c5b0-3207de3f83d3"
      },
      "execution_count": 31,
      "outputs": [
        {
          "output_type": "stream",
          "name": "stderr",
          "text": [
            "5000it [00:24, 207.47it/s]\n"
          ]
        }
      ]
    },
    {
      "cell_type": "code",
      "source": [
        "#hide-output\n",
        "t.build(trees)\n",
        "t.save('t.ann')"
      ],
      "metadata": {
        "colab": {
          "base_uri": "https://localhost:8080/"
        },
        "id": "Cey-mZK6rYxo",
        "outputId": "2cecde43-60ee-4372-9b7f-28a23bc03496"
      },
      "execution_count": 32,
      "outputs": [
        {
          "output_type": "execute_result",
          "data": {
            "text/plain": [
              "True"
            ]
          },
          "metadata": {},
          "execution_count": 32
        }
      ]
    },
    {
      "cell_type": "code",
      "source": [
        "#hide\n",
        "\n",
        "if not os.path.exists('/content/drive/MyDrive/ImgSim/'):\n",
        "    os.mkdir('/content/drive/MyDrive/ImgSim/')\n",
        "\n",
        "file_path = '/content/drive/MyDrive/ImgSim/'"
      ],
      "metadata": {
        "id": "tG5hJDcvrkHr"
      },
      "execution_count": 35,
      "outputs": []
    },
    {
      "cell_type": "code",
      "source": [
        "t.save(file_path+'indexer.ann')\n",
        "pickle.dump(file_index_to_file_name, open(file_path+\"file_index_to_file_name.p\", \"wb\"))\n",
        "pickle.dump(file_index_to_file_vector, open(file_path+\"file_index_to_file_vector.p\", \"wb\"))\n",
        "pickle.dump(file_index_to_product_id, open(file_path+\"file_index_to_product_id.p\", \"wb\"))"
      ],
      "metadata": {
        "id": "-Wwn_3Ixrl-p"
      },
      "execution_count": 36,
      "outputs": []
    },
    {
      "cell_type": "markdown",
      "source": [
        "# Step 5: Local Testing"
      ],
      "metadata": {
        "id": "0W2cAWFIr4iw"
      }
    },
    {
      "cell_type": "code",
      "source": [
        "#hide\n",
        "from PIL import Image\n",
        "import matplotlib.image as mpimg"
      ],
      "metadata": {
        "id": "ap1_536dr7Po"
      },
      "execution_count": 38,
      "outputs": []
    },
    {
      "cell_type": "code",
      "source": [
        "img_addr = 'https://bergersonjoias.vteximg.com.br/arquivos/ids/305537-900-900/Relogio-TAG-Heuer-Carrera-Chronograph.jpg'\n",
        "\n",
        "!wget -q -O img.jpg $img_addr\n",
        "test_img = 'img.jpg'\n",
        "topK = 4\n",
        "\n",
        "test_vec = np.squeeze(module(load_img(test_img)))\n",
        "\n",
        "basewidth = 224\n",
        "img = Image.open(test_img)\n",
        "wpercent = (basewidth/float(img.size[0]))\n",
        "hsize = int((float(img.size[1])*float(wpercent)))\n",
        "img = img.resize((basewidth,hsize), Image.LANCZOS)\n",
        "img"
      ],
      "metadata": {
        "id": "I5rWePWTr-gQ"
      },
      "execution_count": null,
      "outputs": []
    },
    {
      "cell_type": "code",
      "source": [
        "path_dict = {}\n",
        "for path in Path('/content/Fashion_data/categories').rglob('*.jpg'):\n",
        "  path_dict[path.name] = path\n",
        "\n",
        "nns = t.get_nns_by_vector(test_vec, n=topK)\n",
        "plt.figure(figsize=(20, 10))\n",
        "for i in range(topK):\n",
        "  x = file_index_to_file_name[nns[i]]\n",
        "  x = path_dict[x+'.jpg']\n",
        "  y = file_index_to_product_id[nns[i]]\n",
        "  title = '\\n'.join([str(j) for j in list(styles.loc[y].values[-5:])])\n",
        "  plt.subplot(1, topK, i+1)\n",
        "  plt.title(title)\n",
        "  plt.imshow(mpimg.imread(x))\n",
        "  plt.axis('off')\n",
        "plt.tight_layout()"
      ],
      "metadata": {
        "id": "Tj8UBJvMslzI"
      },
      "execution_count": null,
      "outputs": []
    }
  ]
}